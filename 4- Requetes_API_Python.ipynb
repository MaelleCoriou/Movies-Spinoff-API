{
 "cells": [
  {
   "cell_type": "markdown",
   "metadata": {},
   "source": [
    "## REQUETES PYTHON API OMDB"
   ]
  },
  {
   "cell_type": "code",
   "execution_count": 1,
   "metadata": {},
   "outputs": [],
   "source": [
    "# Librairie requests pour envoyer des requêtes HTTP\n",
    "import requests"
   ]
  },
  {
   "cell_type": "code",
   "execution_count": 2,
   "metadata": {},
   "outputs": [],
   "source": [
    "# Librairie json pour créer et lire le format json\n",
    "import json"
   ]
  },
  {
   "cell_type": "code",
   "execution_count": 3,
   "metadata": {},
   "outputs": [],
   "source": [
    "# Requête de récupération de données API protocole URL avec décodeur .text\n",
    "# recherche par ?s ---> par Search titre de film\n",
    "response = requests.get('http://www.omdbapi.com/?s=batman&apikey=2270b15a').text"
   ]
  },
  {
   "cell_type": "code",
   "execution_count": 4,
   "metadata": {},
   "outputs": [
    {
     "data": {
      "text/plain": [
       "'{\"Search\":[{\"Title\":\"Batman Begins\",\"Year\":\"2005\",\"imdbID\":\"tt0372784\",\"Type\":\"movie\",\"Poster\":\"https://m.media-amazon.com/images/M/MV5BOTY4YjI2N2MtYmFlMC00ZjcyLTg3YjEtMDQyM2ZjYzQ5YWFkXkEyXkFqcGdeQXVyMTQxNzMzNDI@._V1_SX300.jpg\"},{\"Title\":\"Batman v Superman: Dawn of Justice\",\"Year\":\"2016\",\"imdbID\":\"tt2975590\",\"Type\":\"movie\",\"Poster\":\"https://m.media-amazon.com/images/M/MV5BYThjYzcyYzItNTVjNy00NDk0LTgwMWQtYjMwNmNlNWJhMzMyXkEyXkFqcGdeQXVyMTQxNzMzNDI@._V1_SX300.jpg\"},{\"Title\":\"Batman\",\"Year\":\"1989\",\"imdbID\":\"tt0096895\",\"Type\":\"movie\",\"Poster\":\"https://m.media-amazon.com/images/M/MV5BMTYwNjAyODIyMF5BMl5BanBnXkFtZTYwNDMwMDk2._V1_SX300.jpg\"},{\"Title\":\"Batman Returns\",\"Year\":\"1992\",\"imdbID\":\"tt0103776\",\"Type\":\"movie\",\"Poster\":\"https://m.media-amazon.com/images/M/MV5BOGZmYzVkMmItM2NiOS00MDI3LWI4ZWQtMTg0YWZkODRkMmViXkEyXkFqcGdeQXVyODY0NzcxNw@@._V1_SX300.jpg\"},{\"Title\":\"Batman Forever\",\"Year\":\"1995\",\"imdbID\":\"tt0112462\",\"Type\":\"movie\",\"Poster\":\"https://m.media-amazon.com/images/M/MV5BNDdjYmFiYWEtYzBhZS00YTZkLWFlODgtY2I5MDE0NzZmMDljXkEyXkFqcGdeQXVyMTMxODk2OTU@._V1_SX300.jpg\"},{\"Title\":\"Batman & Robin\",\"Year\":\"1997\",\"imdbID\":\"tt0118688\",\"Type\":\"movie\",\"Poster\":\"https://m.media-amazon.com/images/M/MV5BMGQ5YTM1NmMtYmIxYy00N2VmLWJhZTYtN2EwYTY3MWFhOTczXkEyXkFqcGdeQXVyNTA2NTI0MTY@._V1_SX300.jpg\"},{\"Title\":\"The Lego Batman Movie\",\"Year\":\"2017\",\"imdbID\":\"tt4116284\",\"Type\":\"movie\",\"Poster\":\"https://m.media-amazon.com/images/M/MV5BMTcyNTEyOTY0M15BMl5BanBnXkFtZTgwOTAyNzU3MDI@._V1_SX300.jpg\"},{\"Title\":\"Batman: The Animated Series\",\"Year\":\"1992–1995\",\"imdbID\":\"tt0103359\",\"Type\":\"series\",\"Poster\":\"https://m.media-amazon.com/images/M/MV5BOTM3MTRkZjQtYjBkMy00YWE1LTkxOTQtNDQyNGY0YjYzNzAzXkEyXkFqcGdeQXVyOTgwMzk1MTA@._V1_SX300.jpg\"},{\"Title\":\"Batman: Under the Red Hood\",\"Year\":\"2010\",\"imdbID\":\"tt1569923\",\"Type\":\"movie\",\"Poster\":\"https://m.media-amazon.com/images/M/MV5BNmY4ZDZjY2UtOWFiYy00MjhjLThmMjctOTQ2NjYxZGRjYmNlL2ltYWdlL2ltYWdlXkEyXkFqcGdeQXVyNTAyODkwOQ@@._V1_SX300.jpg\"},{\"Title\":\"Batman: The Dark Knight Returns, Part 1\",\"Year\":\"2012\",\"imdbID\":\"tt2313197\",\"Type\":\"movie\",\"Poster\":\"https://m.media-amazon.com/images/M/MV5BMzIxMDkxNDM2M15BMl5BanBnXkFtZTcwMDA5ODY1OQ@@._V1_SX300.jpg\"}],\"totalResults\":\"399\",\"Response\":\"True\"}'"
      ]
     },
     "execution_count": 4,
     "metadata": {},
     "output_type": "execute_result"
    }
   ],
   "source": [
    "response"
   ]
  },
  {
   "cell_type": "code",
   "execution_count": 5,
   "metadata": {},
   "outputs": [],
   "source": [
    "# Requête de récupération de données API protocole URL avec décodeur .text\n",
    "# recherche par ?i ---> imdbID et season\n",
    "response_2 = requests.get('http://www.omdbapi.com/?i=tt0944947&Season=1&apikey=2270b15a').text"
   ]
  },
  {
   "cell_type": "code",
   "execution_count": 6,
   "metadata": {},
   "outputs": [
    {
     "data": {
      "text/plain": [
       "'{\"Title\":\"Game of Thrones\",\"Season\":\"1\",\"totalSeasons\":\"8\",\"Episodes\":[{\"Title\":\"Winter Is Coming\",\"Released\":\"2011-04-17\",\"Episode\":\"1\",\"imdbRating\":\"9.1\",\"imdbID\":\"tt1480055\"},{\"Title\":\"The Kingsroad\",\"Released\":\"2011-04-24\",\"Episode\":\"2\",\"imdbRating\":\"8.8\",\"imdbID\":\"tt1668746\"},{\"Title\":\"Lord Snow\",\"Released\":\"2011-05-01\",\"Episode\":\"3\",\"imdbRating\":\"8.7\",\"imdbID\":\"tt1829962\"},{\"Title\":\"Cripples, Bastards, and Broken Things\",\"Released\":\"2011-05-08\",\"Episode\":\"4\",\"imdbRating\":\"8.8\",\"imdbID\":\"tt1829963\"},{\"Title\":\"The Wolf and the Lion\",\"Released\":\"2011-05-15\",\"Episode\":\"5\",\"imdbRating\":\"9.1\",\"imdbID\":\"tt1829964\"},{\"Title\":\"A Golden Crown\",\"Released\":\"2011-05-22\",\"Episode\":\"6\",\"imdbRating\":\"9.2\",\"imdbID\":\"tt1837862\"},{\"Title\":\"You Win or You Die\",\"Released\":\"2011-05-29\",\"Episode\":\"7\",\"imdbRating\":\"9.2\",\"imdbID\":\"tt1837863\"},{\"Title\":\"The Pointy End\",\"Released\":\"2011-06-05\",\"Episode\":\"8\",\"imdbRating\":\"9.0\",\"imdbID\":\"tt1837864\"},{\"Title\":\"Baelor\",\"Released\":\"2011-06-12\",\"Episode\":\"9\",\"imdbRating\":\"9.6\",\"imdbID\":\"tt1851398\"},{\"Title\":\"Fire and Blood\",\"Released\":\"2011-06-19\",\"Episode\":\"10\",\"imdbRating\":\"9.5\",\"imdbID\":\"tt1851397\"}],\"Response\":\"True\"}'"
      ]
     },
     "execution_count": 6,
     "metadata": {},
     "output_type": "execute_result"
    }
   ],
   "source": [
    "response_2"
   ]
  },
  {
   "cell_type": "code",
   "execution_count": 7,
   "metadata": {},
   "outputs": [],
   "source": [
    "# Création dictionnaire\n",
    "response_2_info = json.loads(response_2)"
   ]
  },
  {
   "cell_type": "code",
   "execution_count": 8,
   "metadata": {},
   "outputs": [
    {
     "data": {
      "text/plain": [
       "{'Title': 'Game of Thrones',\n",
       " 'Season': '1',\n",
       " 'totalSeasons': '8',\n",
       " 'Episodes': [{'Title': 'Winter Is Coming',\n",
       "   'Released': '2011-04-17',\n",
       "   'Episode': '1',\n",
       "   'imdbRating': '9.1',\n",
       "   'imdbID': 'tt1480055'},\n",
       "  {'Title': 'The Kingsroad',\n",
       "   'Released': '2011-04-24',\n",
       "   'Episode': '2',\n",
       "   'imdbRating': '8.8',\n",
       "   'imdbID': 'tt1668746'},\n",
       "  {'Title': 'Lord Snow',\n",
       "   'Released': '2011-05-01',\n",
       "   'Episode': '3',\n",
       "   'imdbRating': '8.7',\n",
       "   'imdbID': 'tt1829962'},\n",
       "  {'Title': 'Cripples, Bastards, and Broken Things',\n",
       "   'Released': '2011-05-08',\n",
       "   'Episode': '4',\n",
       "   'imdbRating': '8.8',\n",
       "   'imdbID': 'tt1829963'},\n",
       "  {'Title': 'The Wolf and the Lion',\n",
       "   'Released': '2011-05-15',\n",
       "   'Episode': '5',\n",
       "   'imdbRating': '9.1',\n",
       "   'imdbID': 'tt1829964'},\n",
       "  {'Title': 'A Golden Crown',\n",
       "   'Released': '2011-05-22',\n",
       "   'Episode': '6',\n",
       "   'imdbRating': '9.2',\n",
       "   'imdbID': 'tt1837862'},\n",
       "  {'Title': 'You Win or You Die',\n",
       "   'Released': '2011-05-29',\n",
       "   'Episode': '7',\n",
       "   'imdbRating': '9.2',\n",
       "   'imdbID': 'tt1837863'},\n",
       "  {'Title': 'The Pointy End',\n",
       "   'Released': '2011-06-05',\n",
       "   'Episode': '8',\n",
       "   'imdbRating': '9.0',\n",
       "   'imdbID': 'tt1837864'},\n",
       "  {'Title': 'Baelor',\n",
       "   'Released': '2011-06-12',\n",
       "   'Episode': '9',\n",
       "   'imdbRating': '9.6',\n",
       "   'imdbID': 'tt1851398'},\n",
       "  {'Title': 'Fire and Blood',\n",
       "   'Released': '2011-06-19',\n",
       "   'Episode': '10',\n",
       "   'imdbRating': '9.5',\n",
       "   'imdbID': 'tt1851397'}],\n",
       " 'Response': 'True'}"
      ]
     },
     "execution_count": 8,
     "metadata": {},
     "output_type": "execute_result"
    }
   ],
   "source": [
    "response_2_info"
   ]
  },
  {
   "cell_type": "code",
   "execution_count": 9,
   "metadata": {},
   "outputs": [],
   "source": [
    "# Requête de récupération de données API protocole URL avec décodeur .json\n",
    "response = requests.get('http://www.omdbapi.com/?i=tt3896198&apikey=2270b15a').json"
   ]
  },
  {
   "cell_type": "code",
   "execution_count": 10,
   "metadata": {},
   "outputs": [
    {
     "data": {
      "text/plain": [
       "<bound method Response.json of <Response [200]>>"
      ]
     },
     "execution_count": 10,
     "metadata": {},
     "output_type": "execute_result"
    }
   ],
   "source": [
    "# response 200 = ok\n",
    "response"
   ]
  },
  {
   "cell_type": "code",
   "execution_count": 11,
   "metadata": {},
   "outputs": [],
   "source": [
    "response_json = requests.get('http://www.omdbapi.com/?t=[superman,batman]&apikey=2270b15a')"
   ]
  },
  {
   "cell_type": "code",
   "execution_count": 12,
   "metadata": {},
   "outputs": [
    {
     "name": "stdout",
     "output_type": "stream",
     "text": [
      "{'Title': 'Superman/Batman: Apocalypse', 'Year': '2010', 'Rated': 'PG-13', 'Released': '28 Sep 2010', 'Runtime': '78 min', 'Genre': 'Animation, Action, Adventure, Sci-Fi', 'Director': 'Lauren Montgomery', 'Writer': 'Bob Kane (character created by: Batman), Jerry Siegel (character created by: Superman), Joe Shuster (character created by: Superman), William Moulton Marston (character created by: Wonder Woman), Jack Kirby (characters created by: Darkseid & The New Gods), Jeph Loeb (graphic novel), Michael Turner (graphic novel), Tab Murphy', 'Actors': 'Andre Braugher, Kevin Conroy, Tim Daly, Susan Eisenberg', 'Plot': 'Batman discovers a mysterious teen-aged girl with super-human powers and a connection to Superman. When the girl comes to the attention of Darkseid, the evil overlord of Apokolips, events take a decidedly dangerous turn.', 'Language': 'English, French, Esperanto', 'Country': 'USA', 'Awards': 'N/A', 'Poster': 'https://m.media-amazon.com/images/M/MV5BMjk3ODhmNjgtZjllOC00ZWZjLTkwYzQtNzc1Y2ZhMjY2ODE0XkEyXkFqcGdeQXVyNTAyODkwOQ@@._V1_SX300.jpg', 'Ratings': [{'Source': 'Internet Movie Database', 'Value': '7.1/10'}, {'Source': 'Rotten Tomatoes', 'Value': '63%'}], 'Metascore': 'N/A', 'imdbRating': '7.1', 'imdbVotes': '24,279', 'imdbID': 'tt1673430', 'Type': 'movie', 'DVD': 'N/A', 'BoxOffice': 'N/A', 'Production': 'DC Entertainment', 'Website': 'N/A', 'Response': 'True'}\n"
     ]
    }
   ],
   "source": [
    "print(response_json.json())"
   ]
  },
  {
   "cell_type": "code",
   "execution_count": 13,
   "metadata": {},
   "outputs": [],
   "source": [
    "response_info = response_json.text"
   ]
  },
  {
   "cell_type": "code",
   "execution_count": 14,
   "metadata": {},
   "outputs": [],
   "source": [
    "# Autre méthode création de dictionnaire\n",
    "dic_json = json.loads(response_info)"
   ]
  },
  {
   "cell_type": "code",
   "execution_count": 15,
   "metadata": {},
   "outputs": [
    {
     "data": {
      "text/plain": [
       "dict"
      ]
     },
     "execution_count": 15,
     "metadata": {},
     "output_type": "execute_result"
    }
   ],
   "source": [
    "type(dic_json)"
   ]
  },
  {
   "cell_type": "code",
   "execution_count": 16,
   "metadata": {},
   "outputs": [
    {
     "name": "stdout",
     "output_type": "stream",
     "text": [
      "{\n",
      "  \"Title\": \"Superman/Batman: Apocalypse\",\n",
      "  \"Year\": \"2010\",\n",
      "  \"Rated\": \"PG-13\",\n",
      "  \"Released\": \"28 Sep 2010\",\n",
      "  \"Runtime\": \"78 min\",\n",
      "  \"Genre\": \"Animation, Action, Adventure, Sci-Fi\",\n",
      "  \"Director\": \"Lauren Montgomery\",\n",
      "  \"Writer\": \"Bob Kane (character created by: Batman), Jerry Siegel (character created by: Superman), Joe Shuster (character created by: Superman), William Moulton Marston (character created by: Wonder Woman), Jack Kirby (characters created by: Darkseid & The New Gods), Jeph Loeb (graphic novel), Michael Turner (graphic novel), Tab Murphy\",\n",
      "  \"Actors\": \"Andre Braugher, Kevin Conroy, Tim Daly, Susan Eisenberg\",\n",
      "  \"Plot\": \"Batman discovers a mysterious teen-aged girl with super-human powers and a connection to Superman. When the girl comes to the attention of Darkseid, the evil overlord of Apokolips, events take a decidedly dangerous turn.\",\n",
      "  \"Language\": \"English, French, Esperanto\",\n",
      "  \"Country\": \"USA\",\n",
      "  \"Awards\": \"N/A\",\n",
      "  \"Poster\": \"https://m.media-amazon.com/images/M/MV5BMjk3ODhmNjgtZjllOC00ZWZjLTkwYzQtNzc1Y2ZhMjY2ODE0XkEyXkFqcGdeQXVyNTAyODkwOQ@@._V1_SX300.jpg\",\n",
      "  \"Ratings\": [\n",
      "    {\n",
      "      \"Source\": \"Internet Movie Database\",\n",
      "      \"Value\": \"7.1/10\"\n",
      "    },\n",
      "    {\n",
      "      \"Source\": \"Rotten Tomatoes\",\n",
      "      \"Value\": \"63%\"\n",
      "    }\n",
      "  ],\n",
      "  \"Metascore\": \"N/A\",\n",
      "  \"imdbRating\": \"7.1\",\n",
      "  \"imdbVotes\": \"24,279\",\n",
      "  \"imdbID\": \"tt1673430\",\n",
      "  \"Type\": \"movie\",\n",
      "  \"DVD\": \"N/A\",\n",
      "  \"BoxOffice\": \"N/A\",\n",
      "  \"Production\": \"DC Entertainment\",\n",
      "  \"Website\": \"N/A\",\n",
      "  \"Response\": \"True\"\n",
      "}\n"
     ]
    }
   ],
   "source": [
    "# Création du fichier json et upload des données\n",
    "with open(\"Data/BDD.json\", \"w\") as file:\n",
    "    json.dump(dic_json, file)\n",
    "print(json.dumps(dic_json, indent=2))"
   ]
  },
  {
   "cell_type": "code",
   "execution_count": 36,
   "metadata": {},
   "outputs": [],
   "source": [
    "# Requête de récupération de données API protocole URL avec décodeur .text\n",
    "# recherche par ?t ---> titre\n",
    "response_5 = requests.get('http://www.omdbapi.com/?t=[superman,batman]&apikey=2270b15a').text"
   ]
  },
  {
   "cell_type": "code",
   "execution_count": 37,
   "metadata": {},
   "outputs": [
    {
     "data": {
      "text/plain": [
       "'{\"Title\":\"Superman/Batman: Apocalypse\",\"Year\":\"2010\",\"Rated\":\"PG-13\",\"Released\":\"28 Sep 2010\",\"Runtime\":\"78 min\",\"Genre\":\"Animation, Action, Adventure, Sci-Fi\",\"Director\":\"Lauren Montgomery\",\"Writer\":\"Bob Kane (character created by: Batman), Jerry Siegel (character created by: Superman), Joe Shuster (character created by: Superman), William Moulton Marston (character created by: Wonder Woman), Jack Kirby (characters created by: Darkseid & The New Gods), Jeph Loeb (graphic novel), Michael Turner (graphic novel), Tab Murphy\",\"Actors\":\"Andre Braugher, Kevin Conroy, Tim Daly, Susan Eisenberg\",\"Plot\":\"Batman discovers a mysterious teen-aged girl with super-human powers and a connection to Superman. When the girl comes to the attention of Darkseid, the evil overlord of Apokolips, events take a decidedly dangerous turn.\",\"Language\":\"English, French, Esperanto\",\"Country\":\"USA\",\"Awards\":\"N/A\",\"Poster\":\"https://m.media-amazon.com/images/M/MV5BMjk3ODhmNjgtZjllOC00ZWZjLTkwYzQtNzc1Y2ZhMjY2ODE0XkEyXkFqcGdeQXVyNTAyODkwOQ@@._V1_SX300.jpg\",\"Ratings\":[{\"Source\":\"Internet Movie Database\",\"Value\":\"7.1/10\"},{\"Source\":\"Rotten Tomatoes\",\"Value\":\"63%\"}],\"Metascore\":\"N/A\",\"imdbRating\":\"7.1\",\"imdbVotes\":\"24,279\",\"imdbID\":\"tt1673430\",\"Type\":\"movie\",\"DVD\":\"N/A\",\"BoxOffice\":\"N/A\",\"Production\":\"DC Entertainment\",\"Website\":\"N/A\",\"Response\":\"True\"}'"
      ]
     },
     "execution_count": 37,
     "metadata": {},
     "output_type": "execute_result"
    }
   ],
   "source": [
    "response_5"
   ]
  },
  {
   "cell_type": "code",
   "execution_count": 38,
   "metadata": {},
   "outputs": [],
   "source": [
    "# Création dictionnaire\n",
    "response_5_info = json.loads(response_2)"
   ]
  },
  {
   "cell_type": "code",
   "execution_count": 39,
   "metadata": {},
   "outputs": [
    {
     "data": {
      "text/plain": [
       "{'Title': 'Game of Thrones',\n",
       " 'Season': '1',\n",
       " 'totalSeasons': '8',\n",
       " 'Episodes': [{'Title': 'Winter Is Coming',\n",
       "   'Released': '2011-04-17',\n",
       "   'Episode': '1',\n",
       "   'imdbRating': '9.1',\n",
       "   'imdbID': 'tt1480055'},\n",
       "  {'Title': 'The Kingsroad',\n",
       "   'Released': '2011-04-24',\n",
       "   'Episode': '2',\n",
       "   'imdbRating': '8.8',\n",
       "   'imdbID': 'tt1668746'},\n",
       "  {'Title': 'Lord Snow',\n",
       "   'Released': '2011-05-01',\n",
       "   'Episode': '3',\n",
       "   'imdbRating': '8.7',\n",
       "   'imdbID': 'tt1829962'},\n",
       "  {'Title': 'Cripples, Bastards, and Broken Things',\n",
       "   'Released': '2011-05-08',\n",
       "   'Episode': '4',\n",
       "   'imdbRating': '8.8',\n",
       "   'imdbID': 'tt1829963'},\n",
       "  {'Title': 'The Wolf and the Lion',\n",
       "   'Released': '2011-05-15',\n",
       "   'Episode': '5',\n",
       "   'imdbRating': '9.1',\n",
       "   'imdbID': 'tt1829964'},\n",
       "  {'Title': 'A Golden Crown',\n",
       "   'Released': '2011-05-22',\n",
       "   'Episode': '6',\n",
       "   'imdbRating': '9.2',\n",
       "   'imdbID': 'tt1837862'},\n",
       "  {'Title': 'You Win or You Die',\n",
       "   'Released': '2011-05-29',\n",
       "   'Episode': '7',\n",
       "   'imdbRating': '9.2',\n",
       "   'imdbID': 'tt1837863'},\n",
       "  {'Title': 'The Pointy End',\n",
       "   'Released': '2011-06-05',\n",
       "   'Episode': '8',\n",
       "   'imdbRating': '9.0',\n",
       "   'imdbID': 'tt1837864'},\n",
       "  {'Title': 'Baelor',\n",
       "   'Released': '2011-06-12',\n",
       "   'Episode': '9',\n",
       "   'imdbRating': '9.6',\n",
       "   'imdbID': 'tt1851398'},\n",
       "  {'Title': 'Fire and Blood',\n",
       "   'Released': '2011-06-19',\n",
       "   'Episode': '10',\n",
       "   'imdbRating': '9.5',\n",
       "   'imdbID': 'tt1851397'}],\n",
       " 'Response': 'True'}"
      ]
     },
     "execution_count": 39,
     "metadata": {},
     "output_type": "execute_result"
    }
   ],
   "source": [
    "response_5_info"
   ]
  }
 ],
 "metadata": {
  "kernelspec": {
   "display_name": "Python 3",
   "language": "python",
   "name": "python3"
  },
  "language_info": {
   "codemirror_mode": {
    "name": "ipython",
    "version": 3
   },
   "file_extension": ".py",
   "mimetype": "text/x-python",
   "name": "python",
   "nbconvert_exporter": "python",
   "pygments_lexer": "ipython3",
   "version": "3.8.6"
  }
 },
 "nbformat": 4,
 "nbformat_minor": 4
}
